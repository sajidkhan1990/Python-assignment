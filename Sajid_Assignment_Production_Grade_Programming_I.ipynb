{
  "nbformat": 4,
  "nbformat_minor": 0,
  "metadata": {
    "kernelspec": {
      "display_name": "Python 3",
      "language": "python",
      "name": "python3"
    },
    "language_info": {
      "codemirror_mode": {
        "name": "ipython",
        "version": 3
      },
      "file_extension": ".py",
      "mimetype": "text/x-python",
      "name": "python",
      "nbconvert_exporter": "python",
      "pygments_lexer": "ipython3",
      "version": "3.7.4"
    },
    "colab": {
      "provenance": [],
      "include_colab_link": true
    }
  },
  "cells": [
    {
      "cell_type": "markdown",
      "metadata": {
        "id": "view-in-github",
        "colab_type": "text"
      },
      "source": [
        "<a href=\"https://colab.research.google.com/github/sajidkhan1990/Python-assignment/blob/main/Sajid_Assignment_Production_Grade_Programming_I.ipynb\" target=\"_parent\"><img src=\"https://colab.research.google.com/assets/colab-badge.svg\" alt=\"Open In Colab\"/></a>"
      ]
    },
    {
      "cell_type": "markdown",
      "metadata": {
        "id": "8WbUJEVzs8Bx"
      },
      "source": [
        "## <u>While doing this assignment only use those concepts which have been taught till now</u>"
      ]
    },
    {
      "cell_type": "markdown",
      "metadata": {
        "id": "77zLnpaNvNSp"
      },
      "source": [
        "# <u> Problem 1</u>\n",
        "\n",
        "### Create a class <code>Cylinder</code> which takes two attributes <code>radius</code> and <code>height</code>.\n",
        "\n",
        "### Create the following methods in this class:\n",
        "\n",
        "* ### method <code>volume()</code> which calculates the volume of the cyinder which is defined as $V  = \\pi r^2 h$\n",
        "\n",
        "* ### method <code>surface_area()</code> which calculates the area of the cyinder which is defined as $S  = 2\\pi r h$. Assume this is an open cylinder\n"
      ]
    },
    {
      "cell_type": "code",
      "metadata": {
        "id": "-cWkCZ5OzX0G"
      },
      "source": [
        "# Write your code below. Take pi as 3.14\n",
        "class Cylinder:\n",
        "    def volume(self, radius, height):\n",
        "        self.radius= radius\n",
        "        self.height = height\n",
        "        V= 3.24*self.radius*self.radius*self.height\n",
        "        return V\n",
        "    def surface_area(self, radius, height):\n",
        "        S_A=  2*3.14*radius*height\n",
        "        return S_A\n",
        "\n",
        "\n",
        "\n",
        "\n",
        "\n",
        "\n",
        "\n",
        "\n",
        "\n",
        "\n",
        "\n",
        "\n",
        "\n",
        "  "
      ],
      "execution_count": null,
      "outputs": []
    },
    {
      "cell_type": "code",
      "metadata": {
        "id": "tgS3mhN-18b_",
        "colab": {
          "base_uri": "https://localhost:8080/"
        },
        "outputId": "8e8a2d5f-60b2-478d-8f10-5fa5b2764a76"
      },
      "source": [
        "# Check for sample inputs\n",
        "c= Cylinder()\n",
        "c.surface_area(10,2)\n",
        "\n"
      ],
      "execution_count": null,
      "outputs": [
        {
          "output_type": "execute_result",
          "data": {
            "text/plain": [
              "125.60000000000001"
            ]
          },
          "metadata": {},
          "execution_count": 35
        }
      ]
    },
    {
      "cell_type": "markdown",
      "metadata": {
        "id": "KjPWYK0Rs8By"
      },
      "source": [
        "## <u>Problem 2</u>\n",
        "\n",
        "### You started your own money wallet where your customers can create their accounts and they can either deposit or withdraw money from this wallet.\n",
        "\n",
        "### Write a Python class <code>BankAccount</code> which takes the balance as an attribute. You can initialize the balance with 0 because any new account will have 0 rupees in their wallet. Next write two methods for your class :\n",
        "\n",
        "* #### <code>withdraw()</code> method which takes the amount to be withdrawn as an argument and returns the balance after the withdrawal\n",
        "\n",
        "* #### <code>deposit()</code> method which takes the amount to be deposited as an argument and returns the balance after the deposit.\n",
        "\n",
        "### Keep in mind that if the balance to be withdrawn exceeds the current balance, it should display a message that \"Not enough balance in your account\"\n"
      ]
    },
    {
      "cell_type": "code",
      "metadata": {
        "id": "RxVZTrenzfHC"
      },
      "source": [
        "# Write your BankAccount class below \n",
        "\n",
        "class BankAccount:\n",
        "\n",
        "  def __init__(self,balance=0):\n",
        "    self.balance = balance\n",
        "\n",
        "  def withdraw(self, amount):\n",
        "    if self.balance  >= amount:\n",
        "        self.balance  = self.balance  - amount\n",
        "        return self.balance \n",
        "    else:\n",
        "      print(\"not enough balance in your account\")\n",
        "  \n",
        "  def deposit(self, amount):\n",
        "        self.balance  += amount\n",
        "        return self.balance\n",
        "\n",
        "\n",
        "\n",
        "\n",
        "\n",
        "\n",
        "\n",
        "\n",
        "\n",
        "\n",
        "\n",
        "\n",
        "\n",
        "\n"
      ],
      "execution_count": null,
      "outputs": []
    },
    {
      "cell_type": "code",
      "metadata": {
        "id": "N1Yhpkiws8B3",
        "colab": {
          "base_uri": "https://localhost:8080/"
        },
        "outputId": "59981e68-debe-4361-9315-7c2c86f13b6d"
      },
      "source": [
        "# Create two instances of this class for two customers\n",
        "c = BankAccount()\n",
        "print(f\"your deposit is{c.deposit(1000)}\")\n",
        "\n"
      ],
      "execution_count": null,
      "outputs": [
        {
          "output_type": "stream",
          "name": "stdout",
          "text": [
            "your deposit is1000\n"
          ]
        }
      ]
    },
    {
      "cell_type": "code",
      "source": [],
      "metadata": {
        "id": "AgEXh_1eZ36G"
      },
      "execution_count": null,
      "outputs": []
    },
    {
      "cell_type": "markdown",
      "metadata": {
        "id": "mSTxPcO3fWeX"
      },
      "source": [
        "### Next add some amount and withdraw some another amount for both the customers."
      ]
    },
    {
      "cell_type": "code",
      "metadata": {
        "id": "KpMdlB5Fs8B8",
        "colab": {
          "base_uri": "https://localhost:8080/"
        },
        "outputId": "bcbc561d-560e-4faf-e47e-e621a19fab0c"
      },
      "source": [
        "# Deposit some amount and withdrawing some amount from the two accounts and check if your method works fine\n",
        "\n",
        "print(f\"your deposit is {c.deposit(500)}\")\n",
        "print(f\" your balance after withdraw is {c.withdraw(700)}\")\n",
        "\n",
        "\n",
        "\n",
        "\n",
        "\n",
        "\n",
        "\n"
      ],
      "execution_count": null,
      "outputs": [
        {
          "output_type": "stream",
          "name": "stdout",
          "text": [
            "your deposit is 2400\n",
            " your balance after withdraw is 1700\n"
          ]
        }
      ]
    },
    {
      "cell_type": "markdown",
      "metadata": {
        "id": "5qd8g8UUs8CM"
      },
      "source": [
        "## <u>Problem 3 </u>\n",
        "\n",
        "### Create a class <code>Time </code> which takes two inputs hours and minutes to instantiate.\n",
        "*  #### Construct a method <code>DisplayTime()</code> which displays the time in AM/PM formats. For example if the input is 14 hours and 45 mins, then this method will print \"The time is 2:45 PM\". If the inputted hours exceeds 23 then print the message \"The input hours should be less than 24\" and if the inputted minutes exceeds 59 then print the message \"The input minutes should be less than 60.\" Also if the input is 12 hours 30 minutes, then the displayed time would be 12:30 PM\n",
        "* #### Construct a method <code>DisplayRatio()</code> which should display the ratio of minutes to hours. For example, (8 hours and  16 mins) should display 2. Use <code>try</code>, <code>except</code> block to account for ZeroDivisionError."
      ]
    },
    {
      "cell_type": "code",
      "metadata": {
        "id": "FBJy9Sq_s8CN"
      },
      "source": [
        "class Time:\n",
        "  def __init__(self, hour, minute):\n",
        "    self.hour = hour\n",
        "    self.minute = minute\n",
        "\n",
        "  def DisplayTime(self):\n",
        "    if self.hour > 23:\n",
        "      print(\"The input hours should be less than 24\")\n",
        "    elif self.minute > 59:\n",
        "      print(\" the input minute should be less than 59\")\n",
        "    elif self.hour > 12:\n",
        "      new_hour = self.hour-12\n",
        "      print(f\"the time is {new_hour}: {self.minute} PM\")\n",
        "    elif self.hour == 12:\n",
        "      print(f\"the time is {self.hour}: {self.minute}PM\")\n",
        "    else:\n",
        "      print(f\"the time is { self.hour}: {self.minute} AM\")\n",
        "  \n",
        "  def DisplayRatio(self):\n",
        "    try:\n",
        "        print(f\"ration is {round((self.minute/ self.hour),2)}\")\n",
        "    except ZeroDivisionError as ZE:\n",
        "      print(\"zero division erro is\", ZE)\n",
        "     "
      ],
      "execution_count": null,
      "outputs": []
    },
    {
      "cell_type": "code",
      "metadata": {
        "id": "zywXa51d6Eev",
        "colab": {
          "base_uri": "https://localhost:8080/"
        },
        "outputId": "507d23d9-85fa-46cb-87c5-69b83e36163b"
      },
      "source": [
        "# Check for few sample inputs of hours and mins\n",
        "hour_min_list = [(23,45), (34,50), (12,34), (14,67),(19,20), (2,15), (0, 10)]\n",
        "\n",
        "# Using a for loop display the corresponding 12 hour time format for the above hour_min_list\n",
        "for i in hour_min_list:\n",
        "  c= Time(i[0],i[1])\n",
        "  c.DisplayTime()\n"
      ],
      "execution_count": null,
      "outputs": [
        {
          "output_type": "stream",
          "name": "stdout",
          "text": [
            "the time is 11: 45 PM\n",
            "The input hours should be less than 24\n",
            "the time is 12: 34PM\n",
            " the input minute should be less than 59\n",
            "the time is 7: 20 PM\n",
            "the time is 2: 15 AM\n",
            "the time is 0: 10 AM\n",
            "The input hours should be less than 24\n",
            " the input minute should be less than 59\n",
            "zero division erro\n"
          ]
        }
      ]
    },
    {
      "cell_type": "code",
      "source": [
        "# Also display the corresponding ratios for the above list\n",
        "hour_min_list = [(23,45), (34,50), (12,34), (14,67),(19,20), (2,15), (0, 10)]\n",
        "for i in hour_min_list:\n",
        "  c= Time(i[0],i[1])\n",
        "  c.DisplayRatio()"
      ],
      "metadata": {
        "colab": {
          "base_uri": "https://localhost:8080/"
        },
        "id": "fEqvNElb_WJG",
        "outputId": "348e98b4-8ccc-49da-d4e1-bc7134c8a542"
      },
      "execution_count": null,
      "outputs": [
        {
          "output_type": "stream",
          "name": "stdout",
          "text": [
            "ration is 1.96\n",
            "ration is 1.47\n",
            "ration is 2.83\n",
            "ration is 4.79\n",
            "ration is 1.05\n",
            "ration is 7.5\n",
            "zero division erro is division by zero\n"
          ]
        }
      ]
    },
    {
      "cell_type": "code",
      "metadata": {
        "id": "mgcu1_SAjAqF"
      },
      "source": [],
      "execution_count": null,
      "outputs": []
    }
  ]
}